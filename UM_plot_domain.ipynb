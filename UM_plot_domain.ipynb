{
 "cells": [
  {
   "cell_type": "code",
   "execution_count": null,
   "id": "fb10d1d0-4a3f-4f67-8b73-c3c581a5ca64",
   "metadata": {},
   "outputs": [],
   "source": [
    "from pathlib import Path\n",
    "import typing as T\n",
    "import matplotlib.pyplot as plt\n",
    "import cartopy.crs as ccrs\n",
    "import numpy\n",
    "import xarray as xr\n",
    "\n",
    "def plot_region(ax, name: str, centre: T.Tuple[float, float], res: T.Tuple[float, float], size: T.Tuple[int, int], pole: T.Tuple[float, float]=(90,180), rim: int=9, halo: T.Tuple[int, int]=(7,7), **kwargs):\n",
    "    \"\"\"\n",
    "    Plots a LAM region, including its rim and halo\n",
    "    \"\"\"\n",
    "    \n",
    "    draw_box_centre_size(ax, name, centre, res, size, pole, **kwargs)\n",
    "    \n",
    "    rim_size = [size[0]-rim*2, size[1]-rim*2]\n",
    "    draw_box_centre_size(ax, name + '_rim', centre, res, rim_size, pole, ls='--', **kwargs)\n",
    "    \n",
    "    halo_size = [size[0]+halo[0]*2, size[1]+halo[1]*2]\n",
    "    draw_box_centre_size(ax, name + '_halo', centre, res, halo_size, pole, ls=':', **kwargs)\n",
    "    \n",
    "def draw_box_centre_size(ax, name: str, centre: T.Tuple[float, float], res: T.Tuple[float, float], size: T.Tuple[int, int], pole: T.Tuple[float, float]=(90,180), **kwargs):\n",
    "    \"\"\"\n",
    "    Draws a box given its centre and size\n",
    "    \"\"\"\n",
    "    size_lon = res[1] * size[1]\n",
    "    size_lat = res[0] * size[0]\n",
    "\n",
    "    draw_box_corners(ax, name, corners=[centre[1]-size_lon/2, centre[1]+size_lon/2, centre[0]-size_lat/2, centre[0]+size_lat/2], pole=pole, **kwargs)\n",
    "    \n",
    "def draw_box_corners(ax, name: str, corners: T.Tuple[float, float, float, float], pole: T.Tuple[float, float]=(90,180), **kwargs):\n",
    "    \"\"\"\n",
    "    Draws a box given its corners\n",
    "    \"\"\"\n",
    "    x0,x1,y0,y1 = corners\n",
    "    \n",
    "    lons = numpy.linspace(x0,x1)\n",
    "    lats = numpy.linspace(y0,y1)\n",
    "        \n",
    "    crs = ccrs.RotatedGeodetic(pole[1], pole[0])\n",
    "    ax.plot(lons, [y0]*lons.size, transform=crs, **kwargs, label=name) \n",
    "    ax.plot(lons, [y1]*lons.size, transform=crs, **kwargs) \n",
    "    ax.plot([x0]*lats.size, lats, transform=crs, **kwargs) \n",
    "    ax.plot([x1]*lats.size, lats, transform=crs, **kwargs)"
   ]
  },
  {
   "cell_type": "code",
   "execution_count": null,
   "id": "6c226da0-6495-4bea-9781-e60284cb4821",
   "metadata": {},
   "outputs": [],
   "source": [
    "ERA5_temp_file = Path('/g/data/rt52/era5/single-levels/monthly-averaged/tmax/2024/tmax_era5_wamo_sfc_20240501-20240531.nc')"
   ]
  },
  {
   "cell_type": "code",
   "execution_count": null,
   "id": "02bbe95d-1d9e-40fe-b0ae-2e32f1201595",
   "metadata": {},
   "outputs": [],
   "source": [
    "ERA5_temp = xr.open_dataset(ERA5_temp_file)\n",
    "ERA5_temp"
   ]
  },
  {
   "cell_type": "code",
   "execution_count": null,
   "id": "67a6907f-f4ad-4926-ad01-9111e1248883",
   "metadata": {},
   "outputs": [],
   "source": [
    "CENTRE=[-12.0,132.0]\n",
    "RES=[0.0198,0.0198]\n",
    "SIZE=[200,200]"
   ]
  },
  {
   "cell_type": "code",
   "execution_count": null,
   "id": "cb5119ba-bfd3-45ad-83d0-41c4bfed62ea",
   "metadata": {},
   "outputs": [],
   "source": [
    "plt.figure(figsize=(7,7))\n",
    "ax = plt.axes(projection=ccrs.PlateCarree())\n",
    "ERA5_temp.tmax.sel(longitude=slice(110,160),latitude=slice(-5,-45)).plot(\n",
    "    ax=ax,\n",
    "    cbar_kwargs={\"orientation\": \"vertical\", \"shrink\": 0.6, \"aspect\": 20})\n",
    "ax.gridlines(draw_labels=True)\n",
    "\n",
    "plot_region(ax, 'd0198', centre=CENTRE, res=RES, size=SIZE, color='b')\n",
    "ax.coastlines('10m')\n",
    "ax.legend(loc='lower right');\n",
    "plt.tight_layout()"
   ]
  },
  {
   "cell_type": "code",
   "execution_count": null,
   "id": "0cef190b-5f2e-42af-a8c0-d795dcc154a3",
   "metadata": {},
   "outputs": [],
   "source": [
    "plt.figure(figsize=(7,7))\n",
    "ax = plt.axes(projection=ccrs.PlateCarree())\n",
    "ERA5_temp.tmax.sel(longitude=slice(120,140),latitude=slice(-5,-20)).plot(\n",
    "    ax=ax,\n",
    "    cbar_kwargs={\"orientation\": \"vertical\", \"shrink\": 0.6, \"aspect\": 20})\n",
    "ax.gridlines(draw_labels=True)\n",
    "\n",
    "plot_region(ax, 'd0198', centre=CENTRE, res=RES, size=SIZE, color='b')\n",
    "ax.coastlines('10m')\n",
    "ax.legend(loc='lower right');\n",
    "plt.tight_layout()"
   ]
  }
 ],
 "metadata": {
  "kernelspec": {
   "display_name": "Python [conda env:analysis3-24.04] *",
   "language": "python",
   "name": "conda-env-analysis3-24.04-py"
  },
  "language_info": {
   "codemirror_mode": {
    "name": "ipython",
    "version": 3
   },
   "file_extension": ".py",
   "mimetype": "text/x-python",
   "name": "python",
   "nbconvert_exporter": "python",
   "pygments_lexer": "ipython3",
   "version": "3.10.14"
  }
 },
 "nbformat": 4,
 "nbformat_minor": 5
}
